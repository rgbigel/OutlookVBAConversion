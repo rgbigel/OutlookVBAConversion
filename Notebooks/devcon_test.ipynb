import subprocess
import time
import logging

logging.basicConfig(
    filename="devcon_test.log",
    level=logging.INFO,
    format="%(asctime)s - %(levelname)s - %(message)s"
)
